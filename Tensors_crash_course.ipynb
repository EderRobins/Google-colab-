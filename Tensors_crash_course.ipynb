{
  "nbformat": 4,
  "nbformat_minor": 0,
  "metadata": {
    "colab": {
      "name": "Tensors crash course.ipynb",
      "provenance": [],
      "collapsed_sections": [],
      "authorship_tag": "ABX9TyPEut07kY7HUYMZ9vevoaiB",
      "include_colab_link": true
    },
    "kernelspec": {
      "name": "python3",
      "display_name": "Python 3"
    }
  },
  "cells": [
    {
      "cell_type": "markdown",
      "metadata": {
        "id": "view-in-github",
        "colab_type": "text"
      },
      "source": [
        "<a href=\"https://colab.research.google.com/github/EderRobins/Google-colab-/blob/main/Tensors_crash_course.ipynb\" target=\"_parent\"><img src=\"https://colab.research.google.com/assets/colab-badge.svg\" alt=\"Open In Colab\"/></a>"
      ]
    },
    {
      "cell_type": "code",
      "metadata": {
        "id": "sc6A7IhlL1-Y",
        "outputId": "815b6c80-696f-4361-f96f-8b9003ef57a2",
        "colab": {
          "base_uri": "https://localhost:8080/",
          "height": 88
        }
      },
      "source": [
        "!pip3 install torch"
      ],
      "execution_count": null,
      "outputs": [
        {
          "output_type": "stream",
          "text": [
            "Requirement already satisfied: torch in /usr/local/lib/python3.6/dist-packages (1.6.0+cu101)\n",
            "Requirement already satisfied: numpy in /usr/local/lib/python3.6/dist-packages (from torch) (1.18.5)\n",
            "Requirement already satisfied: future in /usr/local/lib/python3.6/dist-packages (from torch) (0.16.0)\n"
          ],
          "name": "stdout"
        }
      ]
    },
    {
      "cell_type": "code",
      "metadata": {
        "id": "8S-neAy4vqmb",
        "outputId": "bce99125-e791-4c65-a9a6-e8ad72f5a768",
        "colab": {
          "base_uri": "https://localhost:8080/",
          "height": 485
        }
      },
      "source": [
        "import torch\n",
        "#tensors\n",
        "\n",
        "#empty tensor\n",
        "x = torch.empty(2,3)\n",
        "print(x)\n",
        "\n",
        "x = torch.rand(2,2)\n",
        "print(x)\n",
        "\n",
        "x = torch.zeros(2,2)\n",
        "print(x)\n",
        "\n",
        "x = torch.ones(2,2, dtype=torch.float16)\n",
        "print(x)\n",
        "print(x.dtype)\n",
        "print(x.size())\n",
        "\n",
        "x = torch.tensor([2.5,0.1])\n",
        "print(x)\n",
        "\n",
        "x = torch.rand(2,2)\n",
        "y = torch.rand(2,2)\n",
        "\n",
        "#add tensors\n",
        "z=x+y\n",
        "z =torch.add(x,y)\n",
        "print(z)\n",
        "\n",
        "#implace operations\n",
        "y.add_(x)\n",
        "\n",
        "#subtraction\n",
        "z = x - y\n",
        "z = torch.sub(x,y)\n",
        "print(z)\n",
        "\n",
        "#multiplication\n",
        "z = x * y\n",
        "z = torch.mul(x,y)\n",
        "print(z)\n",
        "\n",
        "#div\n",
        "z = x / y\n",
        "z = torch.div(x,y)\n",
        "print(z)\n",
        "\n",
        "#slicing\n",
        "x = torch.rand(5,3)\n",
        "print(x)\n",
        "print(x[1,:])\n",
        "\n",
        "#resize\n",
        "x = torch.rand(4,4)\n",
        "y = x.view(16)\n",
        "print(y)\n",
        "\n",
        "if torch.cuda.is_available():\n",
        "  device=torch.device(\"cuda\")\n",
        "  x = torch.ones(5,device=device)\n",
        "  y = torch.ones(5)\n",
        "  y = y.to(device)\n",
        "  z = x + y\n",
        "  z = z.to(\"cpu\")\n",
        "\n",
        "x = torch.ones(5, requires_grad=True)"
      ],
      "execution_count": 10,
      "outputs": [
        {
          "output_type": "stream",
          "text": [
            "tensor([[1.7874e-35, 0.0000e+00, 1.1060e-35],\n",
            "        [0.0000e+00, 3.3631e-44, 1.4013e-45]])\n",
            "tensor([[0.6833, 0.3746],\n",
            "        [0.7534, 0.3651]])\n",
            "tensor([[0., 0.],\n",
            "        [0., 0.]])\n",
            "tensor([[1., 1.],\n",
            "        [1., 1.]], dtype=torch.float16)\n",
            "torch.float16\n",
            "torch.Size([2, 2])\n",
            "tensor([2.5000, 0.1000])\n",
            "tensor([[0.9062, 0.9611],\n",
            "        [1.0476, 0.7473]])\n",
            "tensor([[-0.6862, -0.3956],\n",
            "        [-0.4183, -0.3512]])\n",
            "tensor([[0.1995, 0.5436],\n",
            "        [0.6592, 0.2960]])\n",
            "tensor([[0.2429, 0.5884],\n",
            "        [0.6007, 0.5301]])\n",
            "tensor([[0.9020, 0.6056, 0.3298],\n",
            "        [0.8687, 0.6405, 0.0332],\n",
            "        [0.5732, 0.6301, 0.2479],\n",
            "        [0.6827, 0.8231, 0.7197],\n",
            "        [0.9381, 0.1263, 0.0527]])\n",
            "tensor([0.8687, 0.6405, 0.0332])\n",
            "tensor([0.0873, 0.7982, 0.6715, 0.9889, 0.8153, 0.2617, 0.6656, 0.2485, 0.5782,\n",
            "        0.9252, 0.0170, 0.7588, 0.5331, 0.8778, 0.4800, 0.4099])\n"
          ],
          "name": "stdout"
        }
      ]
    },
    {
      "cell_type": "code",
      "metadata": {
        "id": "Fu0A0-85V53K",
        "outputId": "fc85465e-97e2-481b-ee96-4ccd67295b29",
        "colab": {
          "base_uri": "https://localhost:8080/",
          "height": 52
        }
      },
      "source": [
        "#linear module\n",
        "import torch\n",
        "\n",
        "w = torch.tensor(3.0, requires_grad=True)\n",
        "b = torch.tensor(1.0, requires_grad=True)\n",
        "\n",
        "def forward(x):\n",
        "  y = w*x+b\n",
        "  return y\n",
        "\n",
        "x = torch.tensor([[4],[7]])\n",
        "forward(x)\n"
      ],
      "execution_count": 2,
      "outputs": [
        {
          "output_type": "execute_result",
          "data": {
            "text/plain": [
              "tensor([[13.],\n",
              "        [22.]], grad_fn=<AddBackward0>)"
            ]
          },
          "metadata": {
            "tags": []
          },
          "execution_count": 2
        }
      ]
    },
    {
      "cell_type": "code",
      "metadata": {
        "id": "zkFXhFYcWQDk",
        "outputId": "5fb02ae8-7f37-4eca-8e85-ddf448dfa7a1",
        "colab": {
          "base_uri": "https://localhost:8080/",
          "height": 104
        }
      },
      "source": [
        "import torch\n",
        "from torch.nn import Linear\n",
        "\n",
        "torch.manual_seed(1)\n",
        "model = Linear(in_features=1, out_features=1)\n",
        "print(model.bias,model.weight)\n",
        "\n",
        "x = torch.tensor([[2.0],[3.3]])\n",
        "print(model(x))\n"
      ],
      "execution_count": 8,
      "outputs": [
        {
          "output_type": "stream",
          "text": [
            "Parameter containing:\n",
            "tensor([-0.4414], requires_grad=True) Parameter containing:\n",
            "tensor([[0.5153]], requires_grad=True)\n",
            "tensor([[0.5891],\n",
            "        [1.2590]], grad_fn=<AddmmBackward>)\n"
          ],
          "name": "stdout"
        }
      ]
    },
    {
      "cell_type": "code",
      "metadata": {
        "id": "QRwoN-jhOx7v",
        "outputId": "9d635d0b-d4f2-4ff5-f3b9-831a5ad0ff81",
        "colab": {
          "base_uri": "https://localhost:8080/",
          "height": 104
        }
      },
      "source": [
        "import torch\n",
        "import torch.nn as nn\n",
        "\n",
        "class LR(nn.Module):\n",
        "  def __init__(self, input_size, output_size):\n",
        "    super().__init__()\n",
        "    self.linear = nn.Linear(input_size, output_size)\n",
        "    \n",
        "  def forward(self,x):\n",
        "    pred = self.linear(x)\n",
        "    return pred\n",
        "\n",
        "torch.manual_seed(1)\n",
        "model = LR(1,1)\n",
        "print(list(model.parameters()))\n",
        "x = torch.tensor([[1.0],[2.0]])\n",
        "print(model.forward(x))"
      ],
      "execution_count": 1,
      "outputs": [
        {
          "output_type": "stream",
          "text": [
            "[Parameter containing:\n",
            "tensor([[0.5153]], requires_grad=True), Parameter containing:\n",
            "tensor([-0.4414], requires_grad=True)]\n",
            "tensor([[0.0739],\n",
            "        [0.5891]], grad_fn=<AddmmBackward>)\n"
          ],
          "name": "stdout"
        }
      ]
    },
    {
      "cell_type": "code",
      "metadata": {
        "id": "rlKwuk-0EghP",
        "outputId": "32e5283f-b5b8-46ad-9959-2eb0a554158a",
        "colab": {
          "base_uri": "https://localhost:8080/",
          "height": 279
        }
      },
      "source": [
        "import torch\n",
        "import torch.nn as nn\n",
        "import matplotlib.pyplot as plt\n",
        "import numpy as np\n",
        "\n",
        "x = torch.randn(100,1) * 10\n",
        "y  =x + 3* torch.randn(100,1)\n",
        "plt.plot(x.numpy(), y.numpy(),'o')\n",
        "plt.ylabel('y')\n",
        "plt.xlabel('x')\n",
        "\n",
        "class LR(nn.Module):\n",
        "  def __init__(self, input_size, output_size):\n",
        "    super().__init__()\n",
        "    self.linear = nn.Linear(input_size, output_size)\n",
        "    \n",
        "  def forward(self,x):\n",
        "    pred = self.linear(x)\n",
        "    return pred\n",
        "\n",
        "torch.manual_seed(1)\n",
        "model = LR(1,1)\n",
        "[w,b] = model.parameters()\n",
        "def get_params():\n",
        "  return {w[0][0].item(),b[0].item()}\n",
        "\n",
        "def plot_fit(title):\n",
        "  plt.title = title\n",
        "  w1,b1 = get_params()\n",
        "  x1 = np.array([-30,30])\n",
        "  y1 = w1 * x1 + b1\n",
        "  plt.plot(x1,y1,'r')\n",
        "  plt.scatter(x,y)\n",
        "  plt.show()\n",
        "\n",
        "plot_fit('Initial model')"
      ],
      "execution_count": 12,
      "outputs": [
        {
          "output_type": "display_data",
          "data": {
            "image/png": "[encoded data removed]",
            "text/plain": [
              "<Figure size 432x288 with 1 Axes>"
            ]
          },
          "metadata": {
            "tags": [],
            "needs_background": "light"
          }
        }
      ]
    },
    {
      "cell_type": "code",
      "metadata": {
        "id": "nvcf4g0NEomI"
      },
      "source": [
        ""
      ],
      "execution_count": null,
      "outputs": []
    },
    {
      "cell_type": "markdown",
      "metadata": {
        "id": "Gyxgr-1_P6e1"
      },
      "source": [
        ""
      ]
    }
  ]
}